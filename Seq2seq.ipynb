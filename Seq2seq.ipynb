{
 "cells": [
  {
   "cell_type": "code",
   "execution_count": 1,
   "metadata": {},
   "outputs": [],
   "source": [
    "import torch"
   ]
  },
  {
   "cell_type": "markdown",
   "metadata": {},
   "source": [
    "## Seq2seq"
   ]
  },
  {
   "cell_type": "code",
   "execution_count": 17,
   "metadata": {},
   "outputs": [],
   "source": [
    "class Encoder(torch.nn.Module):\n",
    "    def __init__(self, emb_dim, voc_size):\n",
    "        super().__init__()\n",
    "        self.emb = torch.nn.Embedding(voc_size, emb_dim)\n",
    "        self.gru = torch.nn.GRU(emb_dim, 100, 1, batch_first=True)\n",
    "    \n",
    "    def forward(self, x):\n",
    "        x = self.emb(x)\n",
    "        y, h = self.gru(x)\n",
    "        return y, h"
   ]
  },
  {
   "cell_type": "code",
   "execution_count": 26,
   "metadata": {},
   "outputs": [],
   "source": [
    "class Decoder(torch.nn.Module):\n",
    "    def __init__(self, emb_dim, voc_size):\n",
    "        super().__init__()\n",
    "        self.emb = torch.nn.Embedding(voc_size, emb_dim)\n",
    "        self.gru = torch.nn.GRU(emb_dim, 100, 1, batch_first=True)\n",
    "        self.lin = torch.nn.Linear(100, voc_size)\n",
    "\n",
    "    def forward(self, x, h):\n",
    "        x = self.emb(x)\n",
    "        y, h1 = self.gru(x, h)\n",
    "        y = torch.nn.functional.relu(y)\n",
    "        y = self.lin(y)\n",
    "        return torch.nn.functional.softmax(y, dim=-1)"
   ]
  },
  {
   "cell_type": "code",
   "execution_count": 27,
   "metadata": {},
   "outputs": [],
   "source": [
    "class Seq2seq(torch.nn.Module):\n",
    "    def __init__(self, emb_dim, voc_size_x, voc_size_target, length, encoder, decoder):\n",
    "        super().__init__()\n",
    "        self.encoder = encoder(emb_dim, voc_size_x)\n",
    "        self.decoder = decoder(emb_dim, voc_size_target)\n",
    "\n",
    "    def forward(self, x_inp, x_tgt):\n",
    "        x_inp, h = self.encoder(x_inp)\n",
    "        h = torch.nn.functional.relu(h)\n",
    "        y = self.decoder(x_tgt, h)\n",
    "        return y"
   ]
  },
  {
   "cell_type": "code",
   "execution_count": 28,
   "metadata": {},
   "outputs": [],
   "source": [
    "x_inp = torch.randint(1, 10000, (1, 10))\n",
    "x_tgt = torch.randint(1, 10000, (1, 10))"
   ]
  },
  {
   "cell_type": "code",
   "execution_count": 29,
   "metadata": {},
   "outputs": [
    {
     "data": {
      "text/plain": [
       "tensor([[[1.0295e-04, 1.3806e-04, 9.8142e-05,  ..., 9.6626e-05,\n",
       "          1.0747e-04, 8.9388e-05],\n",
       "         [7.5145e-05, 1.2423e-04, 9.7938e-05,  ..., 8.4141e-05,\n",
       "          8.9150e-05, 9.2981e-05],\n",
       "         [8.4381e-05, 1.3692e-04, 8.5195e-05,  ..., 8.7998e-05,\n",
       "          1.1183e-04, 7.9228e-05],\n",
       "         ...,\n",
       "         [1.0744e-04, 1.4628e-04, 9.2292e-05,  ..., 9.3539e-05,\n",
       "          1.1310e-04, 8.4102e-05],\n",
       "         [8.4830e-05, 1.2515e-04, 1.0501e-04,  ..., 9.0506e-05,\n",
       "          1.0236e-04, 8.7274e-05],\n",
       "         [1.0487e-04, 1.0975e-04, 1.0038e-04,  ..., 8.4768e-05,\n",
       "          1.1647e-04, 1.0437e-04]]], grad_fn=<SoftmaxBackward0>)"
      ]
     },
     "execution_count": 29,
     "metadata": {},
     "output_type": "execute_result"
    }
   ],
   "source": [
    "seq = Seq2seq(300, 10000, 10000, 10, Encoder, Decoder)\n",
    "seq(x_inp, x_tgt)"
   ]
  }
 ],
 "metadata": {
  "kernelspec": {
   "display_name": "Python 3",
   "language": "python",
   "name": "python3"
  },
  "language_info": {
   "codemirror_mode": {
    "name": "ipython",
    "version": 3
   },
   "file_extension": ".py",
   "mimetype": "text/x-python",
   "name": "python",
   "nbconvert_exporter": "python",
   "pygments_lexer": "ipython3",
   "version": "3.10.0"
  }
 },
 "nbformat": 4,
 "nbformat_minor": 2
}
